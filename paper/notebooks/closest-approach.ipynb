{
  "cells": [
    {
      "cell_type": "markdown",
      "metadata": {},
      "source": [
        "# Case Study: JWST & GAIA\n",
        "\n",
        "NASA's [James Webb Space Telescope](https://science.nasa.gov/mission/webb/)\n",
        "(JWST) and ESA's [Gaia](https://www.esa.int/Science_Exploration/Space_Science/Gaia) \n",
        "star surveyor both orbit the Earth-Sun Lagrange Point \\#2. How close do the two\n",
        "spacecraft get to one another? How do their orbits compare? Simple ephemeris\n",
        "queries to the Horizons ephemeris platform can answer these questions!\n",
        "\n",
        "First, let's fetch Cartesian state vector data for Earth, JWST, and Gaia with\n",
        "respect to the Sun. We can do so using `HorizonsEphemeris.ephemeris`, which \n",
        "is re-exported by `EphemerisSources.jl`."
      ]
    },
    {
      "cell_type": "code",
      "metadata": {},
      "source": [
        "using EphemerisSources\n",
        "using AstroTime, Dates\n",
        "\n",
        "start = AstroTime.TTEpoch(now())\n",
        "stop = start + 1years\n",
        "step = \"1 day\"\n",
        "wrt = \"SEMB-L2\"\n",
        "units = \"KM-S\"\n",
        "\n",
        "earth = ephemeris(\"earth\", start, stop, step; wrt = wrt, units = units)\n",
        "JWST = ephemeris(\"jwst\", start, stop, step; wrt = wrt, units = units)\n",
        "GAIA = ephemeris(\"gaia\", start, stop, step; wrt = wrt, units = units)\n",
        "nothing # hide"
      ],
      "execution_count": null,
      "outputs": []
    },
    {
      "cell_type": "markdown",
      "metadata": {},
      "source": [
        "By plotting all three bodies' orbits about the Sun, we can see that Gaia has \n",
        "a much larger orbit than JWST."
      ]
    },
    {
      "cell_type": "code",
      "metadata": {},
      "source": [
        "using Plots\n",
        "\n",
        "artsy = (;\n",
        "    background = :transparent,\n",
        "    grid = false,\n",
        "    title = \"\",\n",
        "    markersize = 8,\n",
        "    palette = :julia,\n",
        "    dpi = 200,\n",
        "    size = (600, 600),\n",
        "    xlabel = \"X (KM)\",\n",
        "    ylabel = \"Y (KM)\",\n",
        ")\n",
        "\n",
        "fig = plot(; artsy...)\n",
        "plot!(fig, earth.x, earth.y, label = \"Earth\")\n",
        "plot!(fig, JWST.x, JWST.y, label = \"JWST\")\n",
        "plot!(fig, GAIA.x, GAIA.y, label = \"GAIA\")\n",
        "\n",
        "fig # hide"
      ],
      "execution_count": null,
      "outputs": []
    },
    {
      "cell_type": "markdown",
      "metadata": {},
      "source": [
        "But what is the closest approach distance between the two spacecraft? We can all\n",
        "breathe easy: they aren't close to colliding in the next year!"
      ]
    },
    {
      "cell_type": "code",
      "metadata": {},
      "source": [
        "using Dates\n",
        "\n",
        "distance(x, y, z) = sqrt(x^2 + y^2 + z^2)\n",
        "\n",
        "plot(\n",
        "    collect(1:length(earth.cal)),\n",
        "    @. distance(JWST.x - GAIA.x, JWST.y - GAIA.y, JWST.z - GAIA.z);\n",
        "    xlabel = \"Days\",\n",
        "    ylabel = \"Distance (KM)\",\n",
        "    artsy...,\n",
        ")"
      ],
      "execution_count": null,
      "outputs": []
    }
  ],
  "metadata": {
    "kernelspec": {
      "name": "julia-1.10",
      "language": "julia",
      "display_name": "Julia 1.10.4",
      "path": "/Users/joey/Library/Jupyter/kernels/julia-1.10"
    }
  },
  "nbformat": 4,
  "nbformat_minor": 4
}